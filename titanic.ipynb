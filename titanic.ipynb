{
 "cells": [
  {
   "cell_type": "code",
   "execution_count": 1,
   "id": "ec090b68",
   "metadata": {
    "_cell_guid": "b1076dfc-b9ad-4769-8c92-a6c4dae69d19",
    "_uuid": "8f2839f25d086af736a60e9eeb907d3b93b6e0e5",
    "execution": {
     "iopub.execute_input": "2022-08-20T07:51:45.916795Z",
     "iopub.status.busy": "2022-08-20T07:51:45.915938Z",
     "iopub.status.idle": "2022-08-20T07:51:46.910803Z",
     "shell.execute_reply": "2022-08-20T07:51:46.908977Z"
    },
    "papermill": {
     "duration": 1.005956,
     "end_time": "2022-08-20T07:51:46.913813",
     "exception": false,
     "start_time": "2022-08-20T07:51:45.907857",
     "status": "completed"
    },
    "tags": []
   },
   "outputs": [
    {
     "name": "stdout",
     "output_type": "stream",
     "text": [
      "/kaggle/input/titanic/train.csv\n",
      "/kaggle/input/titanic/test.csv\n",
      "/kaggle/input/titanic/gender_submission.csv\n"
     ]
    }
   ],
   "source": [
    "import numpy as np # linear algebra\n",
    "import pandas as pd # data processing, CSV file I/O (e.g. pd.read_csv)\n",
    "from sklearn.preprocessing import MinMaxScaler # Normalization\n",
    "from sklearn.linear_model import LogisticRegression\n",
    "import os\n",
    "for dirname, _, filenames in os.walk('/kaggle/input'):\n",
    "    for filename in filenames:\n",
    "        print(os.path.join(dirname, filename))"
   ]
  },
  {
   "cell_type": "code",
   "execution_count": 2,
   "id": "a3da651b",
   "metadata": {
    "execution": {
     "iopub.execute_input": "2022-08-20T07:51:46.926358Z",
     "iopub.status.busy": "2022-08-20T07:51:46.926028Z",
     "iopub.status.idle": "2022-08-20T07:51:46.949175Z",
     "shell.execute_reply": "2022-08-20T07:51:46.948266Z"
    },
    "papermill": {
     "duration": 0.031706,
     "end_time": "2022-08-20T07:51:46.951424",
     "exception": false,
     "start_time": "2022-08-20T07:51:46.919718",
     "status": "completed"
    },
    "tags": []
   },
   "outputs": [],
   "source": [
    "train_data = pd.read_csv('/kaggle/input/titanic/train.csv')\n",
    "test_data = pd.read_csv('/kaggle/input/titanic/test.csv')"
   ]
  },
  {
   "cell_type": "code",
   "execution_count": 3,
   "id": "a42dfaf1",
   "metadata": {
    "execution": {
     "iopub.execute_input": "2022-08-20T07:51:46.963256Z",
     "iopub.status.busy": "2022-08-20T07:51:46.962623Z",
     "iopub.status.idle": "2022-08-20T07:51:46.997237Z",
     "shell.execute_reply": "2022-08-20T07:51:46.995939Z"
    },
    "papermill": {
     "duration": 0.04768,
     "end_time": "2022-08-20T07:51:47.004313",
     "exception": false,
     "start_time": "2022-08-20T07:51:46.956633",
     "status": "completed"
    },
    "tags": []
   },
   "outputs": [
    {
     "name": "stdout",
     "output_type": "stream",
     "text": [
      "<class 'pandas.core.frame.DataFrame'>\n",
      "RangeIndex: 891 entries, 0 to 890\n",
      "Data columns (total 12 columns):\n",
      " #   Column       Non-Null Count  Dtype  \n",
      "---  ------       --------------  -----  \n",
      " 0   PassengerId  891 non-null    int64  \n",
      " 1   Survived     891 non-null    int64  \n",
      " 2   Pclass       891 non-null    int64  \n",
      " 3   Name         891 non-null    object \n",
      " 4   Sex          891 non-null    object \n",
      " 5   Age          714 non-null    float64\n",
      " 6   SibSp        891 non-null    int64  \n",
      " 7   Parch        891 non-null    int64  \n",
      " 8   Ticket       891 non-null    object \n",
      " 9   Fare         891 non-null    float64\n",
      " 10  Cabin        204 non-null    object \n",
      " 11  Embarked     889 non-null    object \n",
      "dtypes: float64(2), int64(5), object(5)\n",
      "memory usage: 83.7+ KB\n"
     ]
    }
   ],
   "source": [
    "train_data.info()"
   ]
  },
  {
   "cell_type": "code",
   "execution_count": 4,
   "id": "14f098f2",
   "metadata": {
    "execution": {
     "iopub.execute_input": "2022-08-20T07:51:47.028180Z",
     "iopub.status.busy": "2022-08-20T07:51:47.027327Z",
     "iopub.status.idle": "2022-08-20T07:51:47.052287Z",
     "shell.execute_reply": "2022-08-20T07:51:47.050537Z"
    },
    "papermill": {
     "duration": 0.039822,
     "end_time": "2022-08-20T07:51:47.055171",
     "exception": false,
     "start_time": "2022-08-20T07:51:47.015349",
     "status": "completed"
    },
    "tags": []
   },
   "outputs": [
    {
     "name": "stdout",
     "output_type": "stream",
     "text": [
      "<class 'pandas.core.frame.DataFrame'>\n",
      "RangeIndex: 418 entries, 0 to 417\n",
      "Data columns (total 11 columns):\n",
      " #   Column       Non-Null Count  Dtype  \n",
      "---  ------       --------------  -----  \n",
      " 0   PassengerId  418 non-null    int64  \n",
      " 1   Pclass       418 non-null    int64  \n",
      " 2   Name         418 non-null    object \n",
      " 3   Sex          418 non-null    object \n",
      " 4   Age          332 non-null    float64\n",
      " 5   SibSp        418 non-null    int64  \n",
      " 6   Parch        418 non-null    int64  \n",
      " 7   Ticket       418 non-null    object \n",
      " 8   Fare         417 non-null    float64\n",
      " 9   Cabin        91 non-null     object \n",
      " 10  Embarked     418 non-null    object \n",
      "dtypes: float64(2), int64(4), object(5)\n",
      "memory usage: 36.0+ KB\n"
     ]
    }
   ],
   "source": [
    "test_data.info()"
   ]
  },
  {
   "cell_type": "code",
   "execution_count": 5,
   "id": "2a7217e2",
   "metadata": {
    "execution": {
     "iopub.execute_input": "2022-08-20T07:51:47.081004Z",
     "iopub.status.busy": "2022-08-20T07:51:47.080422Z",
     "iopub.status.idle": "2022-08-20T07:51:47.092537Z",
     "shell.execute_reply": "2022-08-20T07:51:47.091249Z"
    },
    "papermill": {
     "duration": 0.029614,
     "end_time": "2022-08-20T07:51:47.097931",
     "exception": false,
     "start_time": "2022-08-20T07:51:47.068317",
     "status": "completed"
    },
    "tags": []
   },
   "outputs": [
    {
     "name": "stdout",
     "output_type": "stream",
     "text": [
      "Number of siblings / spouses aboard the Titanic for Train Data:  [1 0 3 4 2 5 8]\n",
      "Number of siblings / spouses aboard the Titanic for Test Data:  [0 1 2 3 4 5 8]\n",
      "Ports of Embarkation for Train Data:  ['S' 'C' 'Q' nan]\n",
      "Ports of Embarkation for Test Data:  ['Q' 'S' 'C']\n"
     ]
    }
   ],
   "source": [
    "print('Number of siblings / spouses aboard the Titanic for Train Data: ',train_data.SibSp.unique())\n",
    "print('Number of siblings / spouses aboard the Titanic for Test Data: ',test_data.SibSp.unique())\n",
    "print('Ports of Embarkation for Train Data: ',train_data.Embarked.unique())\n",
    "print('Ports of Embarkation for Test Data: ',test_data.Embarked.unique())"
   ]
  },
  {
   "cell_type": "code",
   "execution_count": 6,
   "id": "7018d933",
   "metadata": {
    "execution": {
     "iopub.execute_input": "2022-08-20T07:51:47.130633Z",
     "iopub.status.busy": "2022-08-20T07:51:47.130143Z",
     "iopub.status.idle": "2022-08-20T07:51:47.143159Z",
     "shell.execute_reply": "2022-08-20T07:51:47.142090Z"
    },
    "papermill": {
     "duration": 0.030934,
     "end_time": "2022-08-20T07:51:47.145313",
     "exception": false,
     "start_time": "2022-08-20T07:51:47.114379",
     "status": "completed"
    },
    "tags": []
   },
   "outputs": [],
   "source": [
    "train_data = train_data.drop(['Name','Ticket','Cabin'], axis=1)\n",
    "test_data = test_data.drop(['Name','Ticket','Cabin'], axis=1)"
   ]
  },
  {
   "cell_type": "code",
   "execution_count": 7,
   "id": "e378f1a9",
   "metadata": {
    "execution": {
     "iopub.execute_input": "2022-08-20T07:51:47.165726Z",
     "iopub.status.busy": "2022-08-20T07:51:47.165180Z",
     "iopub.status.idle": "2022-08-20T07:51:47.182964Z",
     "shell.execute_reply": "2022-08-20T07:51:47.180898Z"
    },
    "papermill": {
     "duration": 0.031295,
     "end_time": "2022-08-20T07:51:47.185730",
     "exception": false,
     "start_time": "2022-08-20T07:51:47.154435",
     "status": "completed"
    },
    "tags": []
   },
   "outputs": [
    {
     "name": "stdout",
     "output_type": "stream",
     "text": [
      "Duplicate elements in Train Data:  0\n",
      "Duplicate elements in Test Data:  0\n"
     ]
    }
   ],
   "source": [
    "print('Duplicate elements in Train Data: ',train_data.duplicated().sum())\n",
    "print('Duplicate elements in Test Data: ',test_data.duplicated().sum())"
   ]
  },
  {
   "cell_type": "code",
   "execution_count": 8,
   "id": "8622559c",
   "metadata": {
    "execution": {
     "iopub.execute_input": "2022-08-20T07:51:47.204014Z",
     "iopub.status.busy": "2022-08-20T07:51:47.203721Z",
     "iopub.status.idle": "2022-08-20T07:51:47.216209Z",
     "shell.execute_reply": "2022-08-20T07:51:47.213920Z"
    },
    "papermill": {
     "duration": 0.0243,
     "end_time": "2022-08-20T07:51:47.218841",
     "exception": false,
     "start_time": "2022-08-20T07:51:47.194541",
     "status": "completed"
    },
    "tags": []
   },
   "outputs": [
    {
     "name": "stdout",
     "output_type": "stream",
     "text": [
      "Null values in Train Data:\n",
      " PassengerId      0\n",
      "Survived         0\n",
      "Pclass           0\n",
      "Sex              0\n",
      "Age            177\n",
      "SibSp            0\n",
      "Parch            0\n",
      "Fare             0\n",
      "Embarked         2\n",
      "dtype: int64\n",
      "Null values in Test Data:\n",
      " PassengerId     0\n",
      "Pclass          0\n",
      "Sex             0\n",
      "Age            86\n",
      "SibSp           0\n",
      "Parch           0\n",
      "Fare            1\n",
      "Embarked        0\n",
      "dtype: int64\n"
     ]
    }
   ],
   "source": [
    "print('Null values in Train Data:\\n',train_data.isnull().sum())\n",
    "print('Null values in Test Data:\\n',test_data.isnull().sum())"
   ]
  },
  {
   "cell_type": "code",
   "execution_count": 9,
   "id": "0906015b",
   "metadata": {
    "execution": {
     "iopub.execute_input": "2022-08-20T07:51:47.235781Z",
     "iopub.status.busy": "2022-08-20T07:51:47.235178Z",
     "iopub.status.idle": "2022-08-20T07:51:47.246662Z",
     "shell.execute_reply": "2022-08-20T07:51:47.245639Z"
    },
    "papermill": {
     "duration": 0.022461,
     "end_time": "2022-08-20T07:51:47.248652",
     "exception": false,
     "start_time": "2022-08-20T07:51:47.226191",
     "status": "completed"
    },
    "tags": []
   },
   "outputs": [],
   "source": [
    "train_data.Sex=train_data.Sex.astype('category').cat.codes\n",
    "test_data.Sex=test_data.Sex.astype('category').cat.codes\n",
    "train_data.Embarked=train_data.Embarked.astype('category').cat.codes\n",
    "test_data.Embarked=test_data.Embarked.astype('category').cat.codes"
   ]
  },
  {
   "cell_type": "code",
   "execution_count": 10,
   "id": "4253b1df",
   "metadata": {
    "execution": {
     "iopub.execute_input": "2022-08-20T07:51:47.266383Z",
     "iopub.status.busy": "2022-08-20T07:51:47.266036Z",
     "iopub.status.idle": "2022-08-20T07:51:47.275953Z",
     "shell.execute_reply": "2022-08-20T07:51:47.275052Z"
    },
    "papermill": {
     "duration": 0.021766,
     "end_time": "2022-08-20T07:51:47.278447",
     "exception": false,
     "start_time": "2022-08-20T07:51:47.256681",
     "status": "completed"
    },
    "tags": []
   },
   "outputs": [],
   "source": [
    "train_data['Age'].fillna(int(train_data['Age'].mean()), inplace=True)\n",
    "test_data['Age'].fillna(int(test_data['Age'].mean()), inplace=True)\n",
    "train_data['Embarked'].fillna(int(train_data['Embarked'].mean()), inplace=True)\n",
    "test_data['Fare'].fillna(int(test_data['Fare'].mean()), inplace=True)"
   ]
  },
  {
   "cell_type": "code",
   "execution_count": 11,
   "id": "0c3228f5",
   "metadata": {
    "execution": {
     "iopub.execute_input": "2022-08-20T07:51:47.297183Z",
     "iopub.status.busy": "2022-08-20T07:51:47.296581Z",
     "iopub.status.idle": "2022-08-20T07:51:47.308525Z",
     "shell.execute_reply": "2022-08-20T07:51:47.307239Z"
    },
    "papermill": {
     "duration": 0.024604,
     "end_time": "2022-08-20T07:51:47.311317",
     "exception": false,
     "start_time": "2022-08-20T07:51:47.286713",
     "status": "completed"
    },
    "tags": []
   },
   "outputs": [
    {
     "name": "stdout",
     "output_type": "stream",
     "text": [
      "Null values in Train Data after preprocessing:\n",
      " PassengerId    0\n",
      "Survived       0\n",
      "Pclass         0\n",
      "Sex            0\n",
      "Age            0\n",
      "SibSp          0\n",
      "Parch          0\n",
      "Fare           0\n",
      "Embarked       0\n",
      "dtype: int64\n",
      "Null values in Test Data after preprocessing:\n",
      " PassengerId    0\n",
      "Pclass         0\n",
      "Sex            0\n",
      "Age            0\n",
      "SibSp          0\n",
      "Parch          0\n",
      "Fare           0\n",
      "Embarked       0\n",
      "dtype: int64\n"
     ]
    }
   ],
   "source": [
    "print('Null values in Train Data after preprocessing:\\n',train_data.isnull().sum())\n",
    "print('Null values in Test Data after preprocessing:\\n',test_data.isnull().sum())"
   ]
  },
  {
   "cell_type": "code",
   "execution_count": 12,
   "id": "287de276",
   "metadata": {
    "execution": {
     "iopub.execute_input": "2022-08-20T07:51:47.330127Z",
     "iopub.status.busy": "2022-08-20T07:51:47.329820Z",
     "iopub.status.idle": "2022-08-20T07:51:47.340173Z",
     "shell.execute_reply": "2022-08-20T07:51:47.339276Z"
    },
    "papermill": {
     "duration": 0.022455,
     "end_time": "2022-08-20T07:51:47.342111",
     "exception": false,
     "start_time": "2022-08-20T07:51:47.319656",
     "status": "completed"
    },
    "tags": []
   },
   "outputs": [],
   "source": [
    "train_data.Age = MinMaxScaler().fit_transform(np.array(train_data.Age).reshape(-1,1))\n",
    "train_data.Fare = MinMaxScaler().fit_transform(np.array(train_data.Fare).reshape(-1,1))\n",
    "test_data.Age = MinMaxScaler().fit_transform(np.array(test_data.Age).reshape(-1,1))\n",
    "test_data.Fare = MinMaxScaler().fit_transform(np.array(test_data.Fare).reshape(-1,1))"
   ]
  },
  {
   "cell_type": "code",
   "execution_count": 13,
   "id": "07bab34c",
   "metadata": {
    "execution": {
     "iopub.execute_input": "2022-08-20T07:51:47.360699Z",
     "iopub.status.busy": "2022-08-20T07:51:47.360166Z",
     "iopub.status.idle": "2022-08-20T07:51:47.366612Z",
     "shell.execute_reply": "2022-08-20T07:51:47.365555Z"
    },
    "papermill": {
     "duration": 0.019596,
     "end_time": "2022-08-20T07:51:47.370182",
     "exception": false,
     "start_time": "2022-08-20T07:51:47.350586",
     "status": "completed"
    },
    "tags": []
   },
   "outputs": [],
   "source": [
    "x = train_data.drop(['Survived'],axis=1)"
   ]
  },
  {
   "cell_type": "code",
   "execution_count": 14,
   "id": "30e609bb",
   "metadata": {
    "execution": {
     "iopub.execute_input": "2022-08-20T07:51:47.390397Z",
     "iopub.status.busy": "2022-08-20T07:51:47.389871Z",
     "iopub.status.idle": "2022-08-20T07:51:47.395093Z",
     "shell.execute_reply": "2022-08-20T07:51:47.394107Z"
    },
    "papermill": {
     "duration": 0.019531,
     "end_time": "2022-08-20T07:51:47.399370",
     "exception": false,
     "start_time": "2022-08-20T07:51:47.379839",
     "status": "completed"
    },
    "tags": []
   },
   "outputs": [],
   "source": [
    "y = train_data.Survived"
   ]
  },
  {
   "cell_type": "markdown",
   "id": "f8f391e8",
   "metadata": {
    "papermill": {
     "duration": 0.008213,
     "end_time": "2022-08-20T07:51:47.416310",
     "exception": false,
     "start_time": "2022-08-20T07:51:47.408097",
     "status": "completed"
    },
    "tags": []
   },
   "source": [
    "Logistic Regression"
   ]
  },
  {
   "cell_type": "code",
   "execution_count": 15,
   "id": "cd5df869",
   "metadata": {
    "execution": {
     "iopub.execute_input": "2022-08-20T07:51:47.435206Z",
     "iopub.status.busy": "2022-08-20T07:51:47.434703Z",
     "iopub.status.idle": "2022-08-20T07:51:47.540322Z",
     "shell.execute_reply": "2022-08-20T07:51:47.539341Z"
    },
    "papermill": {
     "duration": 0.118694,
     "end_time": "2022-08-20T07:51:47.543414",
     "exception": false,
     "start_time": "2022-08-20T07:51:47.424720",
     "status": "completed"
    },
    "tags": []
   },
   "outputs": [],
   "source": [
    "clf = LogisticRegression(random_state=0,max_iter = 250).fit(x, y)"
   ]
  },
  {
   "cell_type": "code",
   "execution_count": 16,
   "id": "8c0c2e9a",
   "metadata": {
    "execution": {
     "iopub.execute_input": "2022-08-20T07:51:47.562444Z",
     "iopub.status.busy": "2022-08-20T07:51:47.561964Z",
     "iopub.status.idle": "2022-08-20T07:51:47.578520Z",
     "shell.execute_reply": "2022-08-20T07:51:47.577534Z"
    },
    "papermill": {
     "duration": 0.02891,
     "end_time": "2022-08-20T07:51:47.581311",
     "exception": false,
     "start_time": "2022-08-20T07:51:47.552401",
     "status": "completed"
    },
    "tags": []
   },
   "outputs": [
    {
     "data": {
      "text/plain": [
       "0.8013468013468014"
      ]
     },
     "execution_count": 16,
     "metadata": {},
     "output_type": "execute_result"
    }
   ],
   "source": [
    "clf.score(x, y)"
   ]
  },
  {
   "cell_type": "code",
   "execution_count": 17,
   "id": "513bb277",
   "metadata": {
    "execution": {
     "iopub.execute_input": "2022-08-20T07:51:47.600614Z",
     "iopub.status.busy": "2022-08-20T07:51:47.600146Z",
     "iopub.status.idle": "2022-08-20T07:51:47.615900Z",
     "shell.execute_reply": "2022-08-20T07:51:47.614771Z"
    },
    "papermill": {
     "duration": 0.029577,
     "end_time": "2022-08-20T07:51:47.619373",
     "exception": false,
     "start_time": "2022-08-20T07:51:47.589796",
     "status": "completed"
    },
    "tags": []
   },
   "outputs": [
    {
     "data": {
      "text/plain": [
       "array([0, 1, 1, 1, 0, 0, 0, 0, 1, 1, 1, 1, 0, 0, 1, 1, 0, 0, 1, 1, 0, 0,\n",
       "       1, 0, 1, 0, 0, 0, 1, 0, 0, 1, 1, 0, 1, 0, 0, 0, 1, 1, 0, 1, 0, 1,\n",
       "       1, 0, 0, 1, 0, 1, 0, 0, 1, 1, 0, 0, 1, 0, 1, 0, 0, 1, 0, 0, 1, 0,\n",
       "       1, 0, 0, 0, 0, 0, 0, 0, 0, 0, 0, 0, 0, 1, 0, 0, 1, 0, 1, 0, 0, 0,\n",
       "       1, 0, 0, 0, 0, 0, 0, 0, 0, 1, 1, 0, 1, 0, 1, 0, 0, 0, 1, 0, 0, 1,\n",
       "       0, 1, 0, 1, 1, 0, 0, 0, 1, 0, 0, 0, 0, 1, 0, 0, 0, 0, 1, 0, 0, 0,\n",
       "       0, 1, 0, 0, 1, 0, 0, 1, 1, 1, 1, 0, 0, 0, 0, 1, 0, 0, 0, 1, 0, 0,\n",
       "       0, 0, 1, 0, 0, 0, 0, 1, 0, 0, 0, 0, 1, 0, 0, 0, 0, 0, 1, 0, 0, 0,\n",
       "       0, 1, 0, 0, 0, 0, 0, 0, 1, 0, 1, 0, 0, 0, 1, 0, 1, 0, 1, 1, 0, 0,\n",
       "       1, 1, 0, 0, 0, 0, 0, 1, 0, 0, 1, 0, 0, 1, 0, 0, 0, 1, 1, 0, 1, 0,\n",
       "       0, 0, 0, 0, 0, 0, 0, 0, 0, 0, 1, 0, 0, 0, 0, 1, 0, 1, 0, 0, 1, 1,\n",
       "       0, 0, 0, 0, 1, 1, 0, 0, 0, 1, 0, 0, 0, 1, 1, 1, 1, 1, 0, 0, 0, 0,\n",
       "       1, 0, 0, 0, 1, 1, 0, 0, 1, 0, 1, 1, 0, 0, 0, 0, 0, 0, 0, 0, 0, 0,\n",
       "       0, 0, 0, 1, 1, 1, 0, 1, 0, 1, 0, 1, 0, 1, 1, 0, 0, 1, 0, 1, 1, 1,\n",
       "       0, 1, 1, 1, 1, 0, 0, 1, 1, 0, 1, 1, 0, 0, 1, 1, 0, 1, 0, 1, 1, 1,\n",
       "       1, 0, 0, 0, 1, 0, 0, 1, 0, 0, 0, 1, 0, 0, 0, 1, 1, 1, 0, 0, 0, 0,\n",
       "       0, 0, 0, 0, 1, 1, 1, 1, 0, 0, 1, 0, 0, 0, 1, 1, 1, 1, 1, 0, 0, 1,\n",
       "       1, 1, 1, 1, 0, 0, 1, 1, 0, 1, 0, 0, 0, 1, 0, 1, 0, 0, 0, 1, 1, 0,\n",
       "       1, 0, 0, 1, 0, 0, 1, 0, 1, 0, 0, 0, 0, 0, 0, 0, 1, 0, 0, 1, 1, 1,\n",
       "       0, 1, 0, 0, 0, 1, 0, 0, 1, 1, 0, 0, 0, 1, 1, 0, 0, 1, 0, 1, 0, 0,\n",
       "       1, 0, 0, 1, 0, 1, 1, 0, 1, 0, 0, 0, 1, 0, 0, 0, 0, 1, 1, 0, 0, 0,\n",
       "       0, 0, 0, 0, 0, 0, 0, 1, 0, 0, 1, 1, 1, 0, 0, 0, 0, 1, 0, 0, 0, 0,\n",
       "       1, 0, 1, 0, 0, 0, 0, 0, 0, 0, 0, 0, 1, 0, 1, 0, 0, 1, 1, 1, 1, 1,\n",
       "       1, 0, 0, 0, 0, 0, 0, 1, 0, 0, 1, 0, 1, 0, 1, 0, 0, 1, 0, 0, 1, 1,\n",
       "       0, 0, 1, 0, 0, 1, 1, 1, 0, 1, 0, 1, 1, 0, 0, 0, 0, 0, 1, 0, 0, 0,\n",
       "       1, 0, 0, 0, 1, 0, 1, 1, 1, 0, 0, 0, 0, 0, 1, 0, 0, 1, 0, 0, 0, 1,\n",
       "       0, 1, 0, 0, 1, 1, 1, 0, 1, 1, 0, 1, 0, 1, 0, 0, 0, 0, 0, 1, 0, 1,\n",
       "       0, 0, 1, 0, 0, 0, 1, 0, 0, 0, 1, 0, 0, 0, 1, 1, 0, 0, 1, 0, 0, 1,\n",
       "       0, 1, 1, 0, 0, 0, 0, 0, 0, 0, 0, 1, 0, 0, 0, 0, 1, 0, 1, 1, 0, 0,\n",
       "       0, 0, 0, 1, 1, 0, 1, 0, 0, 0, 0, 1, 0, 1, 0, 1, 1, 0, 0, 1, 0, 0,\n",
       "       0, 0, 0, 0, 0, 0, 0, 0, 0, 1, 1, 0, 0, 0, 0, 0, 0, 1, 0, 1, 1, 1,\n",
       "       0, 0, 0, 0, 0, 0, 0, 1, 0, 1, 0, 0, 0, 0, 0, 1, 0, 0, 1, 0, 1, 0,\n",
       "       0, 0, 1, 0, 1, 0, 1, 0, 0, 0, 0, 0, 1, 1, 0, 0, 1, 0, 0, 0, 0, 0,\n",
       "       1, 1, 0, 1, 1, 0, 0, 0, 0, 0, 0, 1, 0, 0, 0, 0, 1, 0, 0, 0, 0, 1,\n",
       "       0, 0, 1, 0, 0, 0, 1, 0, 0, 0, 0, 1, 0, 0, 0, 1, 0, 1, 1, 1, 0, 0,\n",
       "       0, 0, 1, 0, 1, 0, 0, 1, 0, 1, 1, 1, 0, 0, 0, 0, 1, 0, 0, 0, 0, 0,\n",
       "       0, 1, 0, 0, 1, 1, 0, 1, 0, 1, 1, 0, 0, 0, 0, 1, 0, 1, 0, 0, 0, 0,\n",
       "       0, 0, 1, 0, 0, 0, 1, 0, 0, 1, 0, 0, 0, 0, 0, 1, 1, 0, 0, 0, 0, 1,\n",
       "       0, 0, 0, 1, 0, 0, 1, 0, 0, 0, 0, 0, 0, 1, 0, 0, 1, 1, 1, 1, 1, 0,\n",
       "       1, 0, 0, 0, 1, 0, 0, 1, 1, 0, 0, 0, 0, 1, 0, 0, 1, 1, 0, 0, 0, 1,\n",
       "       1, 0, 1, 0, 0, 1, 0, 1, 1, 1, 0])"
      ]
     },
     "execution_count": 17,
     "metadata": {},
     "output_type": "execute_result"
    }
   ],
   "source": [
    "clf.predict(x)"
   ]
  },
  {
   "cell_type": "code",
   "execution_count": 18,
   "id": "06d1aaf0",
   "metadata": {
    "execution": {
     "iopub.execute_input": "2022-08-20T07:51:47.644691Z",
     "iopub.status.busy": "2022-08-20T07:51:47.644145Z",
     "iopub.status.idle": "2022-08-20T07:51:47.657367Z",
     "shell.execute_reply": "2022-08-20T07:51:47.656524Z"
    },
    "papermill": {
     "duration": 0.02353,
     "end_time": "2022-08-20T07:51:47.659667",
     "exception": false,
     "start_time": "2022-08-20T07:51:47.636137",
     "status": "completed"
    },
    "tags": []
   },
   "outputs": [
    {
     "data": {
      "text/plain": [
       "array([0, 0, 0, 0, 1, 0, 1, 0, 1, 0, 0, 0, 1, 0, 1, 1, 0, 0, 1, 1, 0, 0,\n",
       "       1, 1, 1, 0, 1, 0, 0, 0, 0, 0, 0, 0, 1, 0, 1, 1, 0, 0, 0, 0, 0, 1,\n",
       "       1, 0, 0, 0, 1, 1, 0, 0, 1, 1, 0, 0, 0, 0, 0, 1, 0, 0, 0, 1, 1, 1,\n",
       "       1, 0, 1, 1, 1, 0, 1, 1, 1, 1, 0, 1, 0, 1, 0, 0, 0, 0, 0, 0, 1, 1,\n",
       "       1, 0, 1, 0, 1, 0, 1, 0, 1, 0, 1, 0, 1, 0, 0, 0, 1, 0, 0, 0, 0, 0,\n",
       "       0, 1, 1, 1, 1, 0, 0, 1, 1, 1, 1, 0, 1, 0, 0, 1, 0, 1, 0, 0, 0, 0,\n",
       "       1, 0, 0, 0, 0, 0, 1, 0, 0, 1, 0, 0, 0, 0, 0, 0, 0, 0, 1, 0, 0, 1,\n",
       "       0, 0, 1, 1, 0, 1, 1, 0, 1, 0, 0, 1, 0, 0, 1, 1, 0, 0, 0, 0, 0, 1,\n",
       "       1, 0, 1, 1, 0, 0, 1, 0, 1, 0, 1, 0, 0, 0, 0, 0, 0, 0, 0, 0, 1, 1,\n",
       "       0, 1, 1, 0, 0, 1, 0, 1, 1, 0, 1, 0, 0, 0, 0, 1, 0, 0, 1, 0, 1, 0,\n",
       "       1, 0, 1, 0, 1, 1, 0, 1, 0, 0, 0, 1, 0, 0, 0, 0, 0, 0, 1, 1, 1, 1,\n",
       "       0, 0, 0, 0, 1, 0, 1, 1, 1, 0, 1, 0, 0, 0, 0, 0, 1, 0, 0, 0, 1, 1,\n",
       "       0, 0, 0, 0, 1, 0, 0, 0, 1, 1, 0, 1, 0, 0, 0, 0, 1, 0, 1, 1, 1, 0,\n",
       "       0, 0, 0, 0, 0, 1, 0, 0, 0, 0, 1, 0, 0, 0, 0, 0, 0, 0, 1, 1, 0, 0,\n",
       "       0, 0, 0, 0, 0, 1, 1, 1, 0, 0, 0, 0, 0, 0, 0, 0, 1, 0, 1, 0, 0, 0,\n",
       "       1, 0, 0, 1, 0, 0, 0, 0, 0, 0, 0, 0, 0, 1, 0, 1, 0, 1, 0, 1, 1, 0,\n",
       "       0, 0, 1, 0, 1, 0, 0, 1, 0, 1, 1, 0, 1, 0, 0, 1, 1, 0, 0, 1, 0, 0,\n",
       "       1, 1, 1, 0, 0, 0, 0, 0, 1, 1, 0, 1, 0, 0, 0, 0, 1, 1, 0, 0, 0, 1,\n",
       "       0, 1, 0, 0, 1, 0, 1, 1, 0, 0, 0, 0, 1, 1, 1, 1, 1, 0, 1, 0, 0, 0])"
      ]
     },
     "execution_count": 18,
     "metadata": {},
     "output_type": "execute_result"
    }
   ],
   "source": [
    "output = clf.predict(test_data)\n",
    "output"
   ]
  },
  {
   "cell_type": "code",
   "execution_count": 19,
   "id": "2ada86d0",
   "metadata": {
    "execution": {
     "iopub.execute_input": "2022-08-20T07:51:47.672276Z",
     "iopub.status.busy": "2022-08-20T07:51:47.671973Z",
     "iopub.status.idle": "2022-08-20T07:51:47.676332Z",
     "shell.execute_reply": "2022-08-20T07:51:47.675412Z"
    },
    "papermill": {
     "duration": 0.01299,
     "end_time": "2022-08-20T07:51:47.678294",
     "exception": false,
     "start_time": "2022-08-20T07:51:47.665304",
     "status": "completed"
    },
    "tags": []
   },
   "outputs": [],
   "source": [
    "column1  = test_data.PassengerId"
   ]
  },
  {
   "cell_type": "code",
   "execution_count": 20,
   "id": "a219be56",
   "metadata": {
    "execution": {
     "iopub.execute_input": "2022-08-20T07:51:47.690626Z",
     "iopub.status.busy": "2022-08-20T07:51:47.690355Z",
     "iopub.status.idle": "2022-08-20T07:51:47.697517Z",
     "shell.execute_reply": "2022-08-20T07:51:47.696684Z"
    },
    "papermill": {
     "duration": 0.015644,
     "end_time": "2022-08-20T07:51:47.699513",
     "exception": false,
     "start_time": "2022-08-20T07:51:47.683869",
     "status": "completed"
    },
    "tags": []
   },
   "outputs": [],
   "source": [
    "df = pd.DataFrame(column1, columns =['PassengerId'])\n",
    "df1 = pd.DataFrame(output, columns =['Survived'])"
   ]
  },
  {
   "cell_type": "code",
   "execution_count": 21,
   "id": "9c1c583e",
   "metadata": {
    "execution": {
     "iopub.execute_input": "2022-08-20T07:51:47.713115Z",
     "iopub.status.busy": "2022-08-20T07:51:47.711578Z",
     "iopub.status.idle": "2022-08-20T07:51:47.717095Z",
     "shell.execute_reply": "2022-08-20T07:51:47.716252Z"
    },
    "papermill": {
     "duration": 0.014047,
     "end_time": "2022-08-20T07:51:47.719112",
     "exception": false,
     "start_time": "2022-08-20T07:51:47.705065",
     "status": "completed"
    },
    "tags": []
   },
   "outputs": [],
   "source": [
    "result = pd.concat([df,df1],axis=1, join=\"inner\")"
   ]
  },
  {
   "cell_type": "code",
   "execution_count": 22,
   "id": "fa2e2147",
   "metadata": {
    "execution": {
     "iopub.execute_input": "2022-08-20T07:51:47.733033Z",
     "iopub.status.busy": "2022-08-20T07:51:47.731499Z",
     "iopub.status.idle": "2022-08-20T07:51:47.739023Z",
     "shell.execute_reply": "2022-08-20T07:51:47.738205Z"
    },
    "papermill": {
     "duration": 0.015959,
     "end_time": "2022-08-20T07:51:47.740861",
     "exception": false,
     "start_time": "2022-08-20T07:51:47.724902",
     "status": "completed"
    },
    "tags": []
   },
   "outputs": [],
   "source": [
    "result.to_csv('submission.csv',index = False)"
   ]
  },
  {
   "cell_type": "code",
   "execution_count": 23,
   "id": "1f7dc3b6",
   "metadata": {
    "execution": {
     "iopub.execute_input": "2022-08-20T07:51:47.753620Z",
     "iopub.status.busy": "2022-08-20T07:51:47.752853Z",
     "iopub.status.idle": "2022-08-20T07:51:47.764817Z",
     "shell.execute_reply": "2022-08-20T07:51:47.763463Z"
    },
    "papermill": {
     "duration": 0.020744,
     "end_time": "2022-08-20T07:51:47.767284",
     "exception": false,
     "start_time": "2022-08-20T07:51:47.746540",
     "status": "completed"
    },
    "tags": []
   },
   "outputs": [
    {
     "name": "stdout",
     "output_type": "stream",
     "text": [
      "<class 'pandas.core.frame.DataFrame'>\n",
      "RangeIndex: 418 entries, 0 to 417\n",
      "Data columns (total 2 columns):\n",
      " #   Column       Non-Null Count  Dtype\n",
      "---  ------       --------------  -----\n",
      " 0   PassengerId  418 non-null    int64\n",
      " 1   Survived     418 non-null    int64\n",
      "dtypes: int64(2)\n",
      "memory usage: 6.7 KB\n"
     ]
    }
   ],
   "source": [
    "result.info()"
   ]
  },
  {
   "cell_type": "code",
   "execution_count": null,
   "id": "1b763507",
   "metadata": {
    "papermill": {
     "duration": 0.005686,
     "end_time": "2022-08-20T07:51:47.779402",
     "exception": false,
     "start_time": "2022-08-20T07:51:47.773716",
     "status": "completed"
    },
    "tags": []
   },
   "outputs": [],
   "source": []
  }
 ],
 "metadata": {
  "kernelspec": {
   "display_name": "Python 3",
   "language": "python",
   "name": "python3"
  },
  "language_info": {
   "codemirror_mode": {
    "name": "ipython",
    "version": 3
   },
   "file_extension": ".py",
   "mimetype": "text/x-python",
   "name": "python",
   "nbconvert_exporter": "python",
   "pygments_lexer": "ipython3",
   "version": "3.7.12"
  },
  "papermill": {
   "default_parameters": {},
   "duration": 10.637541,
   "end_time": "2022-08-20T07:51:48.405317",
   "environment_variables": {},
   "exception": null,
   "input_path": "__notebook__.ipynb",
   "output_path": "__notebook__.ipynb",
   "parameters": {},
   "start_time": "2022-08-20T07:51:37.767776",
   "version": "2.3.4"
  }
 },
 "nbformat": 4,
 "nbformat_minor": 5
}
